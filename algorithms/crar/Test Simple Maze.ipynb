{
 "cells": [
  {
   "cell_type": "markdown",
   "metadata": {},
   "source": [
    "# Test Simple Maze"
   ]
  },
  {
   "cell_type": "code",
   "execution_count": 1,
   "metadata": {},
   "outputs": [],
   "source": [
    "from environments import SimpleMaze"
   ]
  },
  {
   "cell_type": "code",
   "execution_count": 2,
   "metadata": {},
   "outputs": [],
   "source": [
    "HIGHER_DIM_OBS = False\n",
    "env = SimpleMaze(higher_dim_obs=HIGHER_DIM_OBS)"
   ]
  },
  {
   "cell_type": "code",
   "execution_count": 3,
   "metadata": {},
   "outputs": [],
   "source": [
    "state = env.reset()"
   ]
  },
  {
   "cell_type": "code",
   "execution_count": 4,
   "metadata": {},
   "outputs": [
    {
     "name": "stdout",
     "output_type": "stream",
     "text": [
      "(8, 8)\n"
     ]
    }
   ],
   "source": [
    "import numpy\n",
    "numpy.set_printoptions(threshold=float('inf'))\n",
    "print(state.shape)"
   ]
  },
  {
   "cell_type": "code",
   "execution_count": 5,
   "metadata": {},
   "outputs": [
    {
     "data": {
      "text/plain": [
       "4"
      ]
     },
     "execution_count": 5,
     "metadata": {},
     "output_type": "execute_result"
    }
   ],
   "source": [
    "env.action_space.n"
   ]
  },
  {
   "cell_type": "code",
   "execution_count": 6,
   "metadata": {},
   "outputs": [
    {
     "data": {
      "text/plain": [
       "array([[1. , 1. , 1. , 1. , 1. , 1. , 1. , 1. ],\n",
       "       [1. , 0. , 0. , 0. , 1. , 0. , 0. , 1. ],\n",
       "       [1. , 0. , 0. , 0. , 1. , 0. , 0. , 1. ],\n",
       "       [1. , 0. , 0. , 0. , 1. , 0. , 0. , 1. ],\n",
       "       [1. , 0. , 0. , 0. , 0.5, 0. , 0. , 1. ],\n",
       "       [1. , 0. , 0. , 0. , 1. , 0. , 0. , 1. ],\n",
       "       [1. , 0. , 0. , 0. , 1. , 0. , 0. , 1. ],\n",
       "       [1. , 1. , 1. , 1. , 1. , 1. , 1. , 1. ]])"
      ]
     },
     "execution_count": 6,
     "metadata": {},
     "output_type": "execute_result"
    }
   ],
   "source": [
    "state"
   ]
  },
  {
   "cell_type": "code",
   "execution_count": 25,
   "metadata": {},
   "outputs": [],
   "source": [
    "next_state, reward, done, _ = env.step(2)"
   ]
  },
  {
   "cell_type": "code",
   "execution_count": 26,
   "metadata": {},
   "outputs": [
    {
     "data": {
      "text/plain": [
       "array([[1. , 1. , 1. , 1. , 1. , 1. , 1. , 1. ],\n",
       "       [1. , 0. , 0. , 0. , 1. , 0. , 0. , 1. ],\n",
       "       [1. , 0. , 0. , 0. , 1. , 0. , 0. , 1. ],\n",
       "       [1. , 0. , 0. , 0. , 1. , 0. , 0. , 1. ],\n",
       "       [1. , 0. , 0.5, 0. , 0. , 0. , 0. , 1. ],\n",
       "       [1. , 0. , 0. , 0. , 1. , 0. , 0. , 1. ],\n",
       "       [1. , 0. , 0. , 0. , 1. , 0. , 0. , 1. ],\n",
       "       [1. , 1. , 1. , 1. , 1. , 1. , 1. , 1. ]])"
      ]
     },
     "execution_count": 26,
     "metadata": {},
     "output_type": "execute_result"
    }
   ],
   "source": [
    "next_state"
   ]
  },
  {
   "cell_type": "code",
   "execution_count": null,
   "metadata": {},
   "outputs": [],
   "source": []
  }
 ],
 "metadata": {
  "kernelspec": {
   "display_name": "Python 3.6.10 64-bit ('spinningup': conda)",
   "language": "python",
   "name": "python361064bitspinningupcondaa7a9d9823c8d4a05886b1f3212fe475e"
  },
  "language_info": {
   "codemirror_mode": {
    "name": "ipython",
    "version": 3
   },
   "file_extension": ".py",
   "mimetype": "text/x-python",
   "name": "python",
   "nbconvert_exporter": "python",
   "pygments_lexer": "ipython3",
   "version": "3.6.10"
  }
 },
 "nbformat": 4,
 "nbformat_minor": 4
}
