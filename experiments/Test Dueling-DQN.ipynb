{
 "cells": [
  {
   "cell_type": "markdown",
   "metadata": {},
   "source": [
    "# Test Dueling-DQN"
   ]
  },
  {
   "cell_type": "code",
   "execution_count": 1,
   "metadata": {},
   "outputs": [],
   "source": [
    "import math\n",
    "import torch\n",
    "import torch.nn as nn\n",
    "from torch.optim import Adam\n",
    "import gym\n",
    "import random\n",
    "import numpy as np"
   ]
  },
  {
   "cell_type": "code",
   "execution_count": 2,
   "metadata": {},
   "outputs": [],
   "source": [
    "from IPython.display import clear_output\n",
    "import matplotlib.pyplot as plt\n",
    "%matplotlib inline"
   ]
  },
  {
   "cell_type": "code",
   "execution_count": 3,
   "metadata": {},
   "outputs": [],
   "source": [
    "USE_CUDA = torch.cuda.is_available()\n",
    "device = 'cuda' if USE_CUDA else 'cpu'\n",
    "device = torch.device(device)"
   ]
  },
  {
   "cell_type": "code",
   "execution_count": 4,
   "metadata": {},
   "outputs": [],
   "source": [
    "def plot(frame_idx, rewards, losses):\n",
    "    %matplotlib inline\n",
    "    clear_output(True)\n",
    "    plt.figure(figsize=(20,5))\n",
    "    plt.subplot(131)\n",
    "    plt.title('frame %s. reward: %s' % (frame_idx, np.mean(rewards[-10:])))\n",
    "    plt.plot(rewards)\n",
    "    plt.subplot(132)\n",
    "    plt.title('loss')\n",
    "    plt.plot(losses)\n",
    "    plt.show()"
   ]
  },
  {
   "cell_type": "markdown",
   "metadata": {},
   "source": [
    "## Network and Loss Definitions"
   ]
  },
  {
   "cell_type": "code",
   "execution_count": 5,
   "metadata": {},
   "outputs": [],
   "source": [
    "class QNetwork(nn.Module):\n",
    "    def __init__(self, input_size, num_actions):\n",
    "        self.num_actions = num_actions\n",
    "        super().__init__()\n",
    "        self.fc_common = nn.Sequential(nn.Linear(input_size, 128),\n",
    "                                nn.ReLU(),\n",
    "                                nn.Linear(128, 128),\n",
    "                                nn.ReLU())\n",
    "        self.value = nn.Linear(128, 1)\n",
    "        self.advantange = nn.Linear(128, num_actions)\n",
    "                                \n",
    "    def forward(self, x):\n",
    "        x = self.fc_common(x)\n",
    "        val, adv = self.value(x), self.advantange(x)\n",
    "        return val, adv\n",
    "    \n",
    "    def get_value(self, state):\n",
    "        val = self.value(self.fc_common(state))\n",
    "        return val\n",
    "    \n",
    "    def get_adv(self, state):\n",
    "        adv = self.advantange(self.fc_common(state))\n",
    "        return adv\n",
    "    \n",
    "    def get_state_action_value(self, state, action):\n",
    "        val, adv = self.forward(state)\n",
    "        state_action_adv = torch.gather(\n",
    "            adv, 1,\n",
    "            action.long().unsqueeze(-1)\n",
    "        )\n",
    "        state_action_values = val + (state_action_adv - adv.mean(dim=1).unsqueeze(-1))\n",
    "        return state_action_values\n",
    "    \n",
    "    def act(self, state, eps):\n",
    "        if np.random.random() < eps:\n",
    "            return np.random.randint(self.num_actions)\n",
    "        return torch.argmax(self.get_adv(state)).item()"
   ]
  },
  {
   "cell_type": "code",
   "execution_count": 6,
   "metadata": {},
   "outputs": [],
   "source": [
    "class QCNN(nn.Module):\n",
    "    def __init__(self, input_size, num_actions):\n",
    "        self.num_actions = num_actions\n",
    "        super().__init__()\n",
    "        self.conv = nn.Sequential(\n",
    "            nn.Conv2d(in_channels=1, out_channels=32, kernel_size=8, stride=4),\n",
    "            nn.ReLU(),\n",
    "            nn.Conv2d(in_channels=32, out_channels=64, kernel_size=4, stride=2),\n",
    "            nn.ReLU(),\n",
    "            nn.Conv2d(in_channels=64, out_channels=64, kernel_size=3),\n",
    "            nn.ReLU()\n",
    "        )\n",
    "        self.fc_size = self._get_fc_size()\n",
    "        self.fc_common = nn.Sequential(nn.Linear(self.fc_size, 128),\n",
    "                                nn.ReLU(),\n",
    "                                nn.Linear(128, 128))\n",
    "        self.value = nn.Linear(128, 1)\n",
    "        self.advantange = nn.Linear(128, num_actions)\n",
    "    \n",
    "    def forward(self, x):\n",
    "        x = self.conv(x)\n",
    "        x = x.reshape(-1, self.fc_size)\n",
    "        x = self.fc_common(x)\n",
    "        val, adv = self.value(x), self.advantange(x)\n",
    "        return val, adv    \n",
    "    \n",
    "    def get_value(self, state):\n",
    "        x = self.conv(state)\n",
    "        x = x.reshape(-1, self.fc_size)\n",
    "        val = self.value(self.fc_common(x))\n",
    "        return val\n",
    "    \n",
    "    def get_adv(self, state):\n",
    "        x = self.conv(state)\n",
    "        x = x.reshape(-1, self.fc_size)\n",
    "        adv = self.advantange(self.fc_common(x))\n",
    "        return adv\n",
    "    \n",
    "    def get_state_action_value(self, state, action):\n",
    "        val, adv = self.forward(state)\n",
    "        state_action_adv = torch.gather(\n",
    "            adv, 1,\n",
    "            action.long().unsqueeze(-1)\n",
    "        )\n",
    "        state_action_values = val + (state_action_adv - adv.mean(dim=1).unsqueeze(-1))\n",
    "        return state_action_values\n",
    "    \n",
    "    def act(self, state, eps):\n",
    "        if np.random.random() < eps:\n",
    "            return np.random.randint(self.num_actions)\n",
    "        return torch.argmax(self.get_adv(state)).item()\n",
    "\n",
    "    def _get_fc_size(self, width=84, height=84):\n",
    "        t = torch.rand((1, 1, height, width))\n",
    "        return self.conv(t).reshape(-1).shape[0]"
   ]
  },
  {
   "cell_type": "code",
   "execution_count": 7,
   "metadata": {},
   "outputs": [],
   "source": [
    "def synchronize_nets(from_net, to_net):\n",
    "    to_net.load_state_dict(from_net.state_dict())"
   ]
  },
  {
   "cell_type": "code",
   "execution_count": 8,
   "metadata": {},
   "outputs": [],
   "source": [
    "def dueling_dqn_td_loss(online_net, target_net, batch, gamma=0.95):\n",
    "    states, actions, rewards, dones, next_states = map(\n",
    "        lambda arr: torch.as_tensor(arr, device=device, dtype=torch.float32), \n",
    "        batch\n",
    "    )    \n",
    "    \n",
    "    state_action_values = online_net.get_state_action_value(states, actions)\n",
    "    \n",
    "    best_online_actions = torch.argmax(online_net.get_adv(next_states), dim=1)\n",
    "    \n",
    "    target_state_action_values = target_net.get_state_action_value(next_states, best_online_actions)\n",
    "    target_state_action_values *= 1.0 - dones.float().unsqueeze(-1)\n",
    "    \n",
    "    expected_state_action_values = rewards.unsqueeze(-1) + gamma * target_state_action_values\n",
    "        \n",
    "    loss = nn.MSELoss()(state_action_values, expected_state_action_values)\n",
    "    return loss"
   ]
  },
  {
   "cell_type": "code",
   "execution_count": 9,
   "metadata": {},
   "outputs": [],
   "source": [
    "from crar.experience import UniformReplayBuffer, Experience\n",
    "from crar.utils import compute_eps\n",
    "\n",
    "def play_step(replay_buffer, state, qnet, env, step_number, \n",
    "              eps_start=1.0, eps_end=0.01, eps_last_frame=1000):\n",
    "    eps = compute_eps(step_number, eps_start, eps_end, eps_last_frame)\n",
    "    action = qnet.act(\n",
    "        torch.as_tensor(np.expand_dims(state, 0), device=device).float(),\n",
    "        eps\n",
    "    )\n",
    "    next_state, reward, done, _ = env.step(action)\n",
    "    exp = Experience(state, action, reward, done, next_state)\n",
    "    replay_buffer.push(exp)\n",
    "    \n",
    "    return next_state, reward, done"
   ]
  },
  {
   "cell_type": "code",
   "execution_count": 10,
   "metadata": {},
   "outputs": [],
   "source": [
    "def populate_warm_start(size, replay_buffer, qnet, env, eps_start=1.0, \n",
    "                        eps_end=0.001, eps_last_frame=1000):\n",
    "    state = env.reset()\n",
    "    for _ in range(size):\n",
    "        next_state, reward, done =\\\n",
    "            play_step(replay_buffer, state, qnet, env, 0)\n",
    "        state = next_state\n",
    "        if done:\n",
    "            state = env.reset()"
   ]
  },
  {
   "cell_type": "markdown",
   "metadata": {},
   "source": [
    "## CartPole"
   ]
  },
  {
   "cell_type": "code",
   "execution_count": 49,
   "metadata": {},
   "outputs": [],
   "source": [
    "online_net = QNetwork(4, 2).to(device)\n",
    "target_net = QNetwork(4, 2).to(device)"
   ]
  },
  {
   "cell_type": "code",
   "execution_count": 63,
   "metadata": {},
   "outputs": [],
   "source": [
    "REPLAY_SIZE = 500\n",
    "MAX_EP_LEN = 200\n",
    "BATCH_SIZE = 32\n",
    "SYNC_INTERVAL = 100\n",
    "PLOT_INTERVAL = 100\n",
    "TOTAL_STEPS = 2000\n",
    "GRAD_CLIP = 10.0\n",
    "WARM_START_SIZE = 1000"
   ]
  },
  {
   "cell_type": "code",
   "execution_count": 51,
   "metadata": {},
   "outputs": [],
   "source": [
    "replay_buffer = UniformReplayBuffer(REPLAY_SIZE)"
   ]
  },
  {
   "cell_type": "code",
   "execution_count": 52,
   "metadata": {},
   "outputs": [
    {
     "name": "stderr",
     "output_type": "stream",
     "text": [
      "/home/aayn/miniconda3/envs/spinningup/lib/python3.6/site-packages/gym/logger.py:30: UserWarning: \u001b[33mWARN: Box bound precision lowered by casting to float32\u001b[0m\n",
      "  warnings.warn(colorize('%s: %s'%('WARN', msg % args), 'yellow'))\n"
     ]
    }
   ],
   "source": [
    "from crar.environments import TimeLimit\n",
    "\n",
    "env_id = \"CartPole-v0\"\n",
    "env = gym.make(env_id)\n",
    "env = TimeLimit(env, MAX_EP_LEN)"
   ]
  },
  {
   "cell_type": "code",
   "execution_count": 64,
   "metadata": {},
   "outputs": [],
   "source": [
    "populate_warm_start(WARM_START_SIZE, replay_buffer, online_net, env)"
   ]
  },
  {
   "cell_type": "code",
   "execution_count": 54,
   "metadata": {},
   "outputs": [],
   "source": [
    "optimizer = torch.optim.Adam(online_net.parameters(), lr=1e-3)"
   ]
  },
  {
   "cell_type": "code",
   "execution_count": 55,
   "metadata": {},
   "outputs": [],
   "source": [
    "def train_loop():\n",
    "    state = env.reset()\n",
    "    ep_rewards_list = []\n",
    "    losses_list = []\n",
    "    episode_reward = 0\n",
    "    state = env.reset()\n",
    "    for step_num in range(1, TOTAL_STEPS + 1):\n",
    "        if len(replay_buffer) > BATCH_SIZE:\n",
    "            batch = replay_buffer.sample(BATCH_SIZE)\n",
    "            loss = dueling_dqn_td_loss(online_net, target_net, batch)\n",
    "            losses_list.append(loss)\n",
    "            optimizer.zero_grad()\n",
    "            loss.backward()\n",
    "            if GRAD_CLIP > 0:\n",
    "                nn.utils.clip_grad_norm_(online_net.parameters(), GRAD_CLIP)\n",
    "            optimizer.step()\n",
    "        \n",
    "        if step_num % SYNC_INTERVAL == 0:\n",
    "            synchronize_nets(online_net, target_net)\n",
    "        \n",
    "        next_state, reward, done =\\\n",
    "            play_step(replay_buffer, state, online_net, env, step_num)\n",
    "        episode_reward += reward\n",
    "        state = next_state\n",
    "        if done:\n",
    "            ep_rewards_list.append(episode_reward)\n",
    "            episode_reward = 0\n",
    "            state = env.reset()\n",
    "        if step_num % PLOT_INTERVAL == 0:\n",
    "            plot(step_num, ep_rewards_list, losses_list)    \n",
    "            "
   ]
  },
  {
   "cell_type": "code",
   "execution_count": 56,
   "metadata": {},
   "outputs": [
    {
     "data": {
      "image/png": "[encoded data removed]",
      "text/plain": [
       "<Figure size 1440x360 with 2 Axes>"
      ]
     },
     "metadata": {
      "needs_background": "light"
     },
     "output_type": "display_data"
    }
   ],
   "source": [
    "train_loop()"
   ]
  },
  {
   "cell_type": "markdown",
   "metadata": {},
   "source": [
    "## Atari Pong"
   ]
  },
  {
   "cell_type": "code",
   "execution_count": 20,
   "metadata": {},
   "outputs": [],
   "source": [
    "from crar.wrappers import make_atari, wrap_deepmind, wrap_pytorch\n",
    "env_id = \"PongNoFrameskip-v4\"\n",
    "env = make_atari(env_id)\n",
    "env = wrap_deepmind(env)\n",
    "env = wrap_pytorch(env)"
   ]
  },
  {
   "cell_type": "code",
   "execution_count": 21,
   "metadata": {},
   "outputs": [
    {
     "data": {
      "text/plain": [
       "Box(1, 84, 84)"
      ]
     },
     "execution_count": 21,
     "metadata": {},
     "output_type": "execute_result"
    }
   ],
   "source": [
    "env.observation_space"
   ]
  },
  {
   "cell_type": "code",
   "execution_count": 22,
   "metadata": {},
   "outputs": [],
   "source": [
    "online_net = QCNN((env.observation_space), 2).to(device)\n",
    "target_net = QCNN((env.observation_space), 2).to(device)"
   ]
  },
  {
   "cell_type": "code",
   "execution_count": 27,
   "metadata": {},
   "outputs": [],
   "source": [
    "REPLAY_SIZE = 100000\n",
    "BATCH_SIZE = 128\n",
    "SYNC_INTERVAL = 1000\n",
    "PLOT_INTERVAL = 100\n",
    "TOTAL_STEPS = 1400000\n",
    "GRAD_CLIP = 10.0\n",
    "WARM_START_SIZE = 20000\n",
    "EPS_LAST_FRAME = 50000"
   ]
  },
  {
   "cell_type": "code",
   "execution_count": 28,
   "metadata": {},
   "outputs": [],
   "source": [
    "optimizer = torch.optim.Adam(online_net.parameters(), lr=5e-4)"
   ]
  },
  {
   "cell_type": "code",
   "execution_count": 29,
   "metadata": {},
   "outputs": [],
   "source": [
    "replay_buffer = UniformReplayBuffer(REPLAY_SIZE)"
   ]
  },
  {
   "cell_type": "code",
   "execution_count": 30,
   "metadata": {},
   "outputs": [],
   "source": [
    "populate_warm_start(WARM_START_SIZE, replay_buffer, online_net, env)"
   ]
  },
  {
   "cell_type": "code",
   "execution_count": 31,
   "metadata": {},
   "outputs": [],
   "source": [
    "def train_loop():\n",
    "    state = env.reset()\n",
    "    ep_rewards_list = []\n",
    "    losses_list = []\n",
    "    episode_reward = 0\n",
    "    state = env.reset()\n",
    "    for step_num in range(1, TOTAL_STEPS + 1):\n",
    "        if len(replay_buffer) > BATCH_SIZE:\n",
    "            batch = replay_buffer.sample(BATCH_SIZE)\n",
    "            loss = dueling_dqn_td_loss(online_net, target_net, batch)\n",
    "            losses_list.append(loss)\n",
    "            optimizer.zero_grad()\n",
    "            loss.backward()\n",
    "            if GRAD_CLIP > 0:\n",
    "                nn.utils.clip_grad_norm_(online_net.parameters(), GRAD_CLIP)\n",
    "            optimizer.step()\n",
    "        \n",
    "        if step_num % SYNC_INTERVAL == 0:\n",
    "            synchronize_nets(online_net, target_net)\n",
    "        \n",
    "        next_state, reward, done =\\\n",
    "            play_step(replay_buffer, state, online_net, env, step_num, eps_last_frame=EPS_LAST_FRAME)\n",
    "        episode_reward += reward\n",
    "        state = next_state\n",
    "        if done:\n",
    "            ep_rewards_list.append(episode_reward)\n",
    "            episode_reward = 0\n",
    "            state = env.reset()\n",
    "        if step_num % PLOT_INTERVAL == 0:\n",
    "            plot(step_num, ep_rewards_list, losses_list)    \n",
    "            "
   ]
  },
  {
   "cell_type": "code",
   "execution_count": 32,
   "metadata": {},
   "outputs": [
    {
     "data": {
      "image/png": "[encoded data removed]",
      "text/plain": [
       "<Figure size 1440x360 with 2 Axes>"
      ]
     },
     "metadata": {
      "needs_background": "light"
     },
     "output_type": "display_data"
    },
    {
     "ename": "KeyboardInterrupt",
     "evalue": "",
     "output_type": "error",
     "traceback": [
      "\u001b[0;31m---------------------------------------------------------------------------\u001b[0m",
      "\u001b[0;31mKeyboardInterrupt\u001b[0m                         Traceback (most recent call last)",
      "\u001b[0;32m<ipython-input-32-6590b82f66d8>\u001b[0m in \u001b[0;36m<module>\u001b[0;34m\u001b[0m\n\u001b[0;32m----> 1\u001b[0;31m \u001b[0mtrain_loop\u001b[0m\u001b[0;34m(\u001b[0m\u001b[0;34m)\u001b[0m\u001b[0;34m\u001b[0m\u001b[0;34m\u001b[0m\u001b[0m\n\u001b[0m",
      "\u001b[0;32m<ipython-input-31-3e9182ed3bc7>\u001b[0m in \u001b[0;36mtrain_loop\u001b[0;34m()\u001b[0m\n\u001b[1;32m      7\u001b[0m     \u001b[0;32mfor\u001b[0m \u001b[0mstep_num\u001b[0m \u001b[0;32min\u001b[0m \u001b[0mrange\u001b[0m\u001b[0;34m(\u001b[0m\u001b[0;36m1\u001b[0m\u001b[0;34m,\u001b[0m \u001b[0mTOTAL_STEPS\u001b[0m \u001b[0;34m+\u001b[0m \u001b[0;36m1\u001b[0m\u001b[0;34m)\u001b[0m\u001b[0;34m:\u001b[0m\u001b[0;34m\u001b[0m\u001b[0;34m\u001b[0m\u001b[0m\n\u001b[1;32m      8\u001b[0m         \u001b[0;32mif\u001b[0m \u001b[0mlen\u001b[0m\u001b[0;34m(\u001b[0m\u001b[0mreplay_buffer\u001b[0m\u001b[0;34m)\u001b[0m \u001b[0;34m>\u001b[0m \u001b[0mBATCH_SIZE\u001b[0m\u001b[0;34m:\u001b[0m\u001b[0;34m\u001b[0m\u001b[0;34m\u001b[0m\u001b[0m\n\u001b[0;32m----> 9\u001b[0;31m             \u001b[0mbatch\u001b[0m \u001b[0;34m=\u001b[0m \u001b[0mreplay_buffer\u001b[0m\u001b[0;34m.\u001b[0m\u001b[0msample\u001b[0m\u001b[0;34m(\u001b[0m\u001b[0mBATCH_SIZE\u001b[0m\u001b[0;34m)\u001b[0m\u001b[0;34m\u001b[0m\u001b[0;34m\u001b[0m\u001b[0m\n\u001b[0m\u001b[1;32m     10\u001b[0m             \u001b[0mloss\u001b[0m \u001b[0;34m=\u001b[0m \u001b[0mdueling_dqn_td_loss\u001b[0m\u001b[0;34m(\u001b[0m\u001b[0monline_net\u001b[0m\u001b[0;34m,\u001b[0m \u001b[0mtarget_net\u001b[0m\u001b[0;34m,\u001b[0m \u001b[0mbatch\u001b[0m\u001b[0;34m)\u001b[0m\u001b[0;34m\u001b[0m\u001b[0;34m\u001b[0m\u001b[0m\n\u001b[1;32m     11\u001b[0m             \u001b[0mlosses_list\u001b[0m\u001b[0;34m.\u001b[0m\u001b[0mappend\u001b[0m\u001b[0;34m(\u001b[0m\u001b[0mloss\u001b[0m\u001b[0;34m)\u001b[0m\u001b[0;34m\u001b[0m\u001b[0;34m\u001b[0m\u001b[0m\n",
      "\u001b[0;32m~/miniconda3/envs/spinningup/lib/python3.6/site-packages/crar_pytorch-0.1-py3.6.egg/crar/experience.py\u001b[0m in \u001b[0;36msample\u001b[0;34m(self, batch_size, replace)\u001b[0m\n\u001b[1;32m     33\u001b[0m         \u001b[0mindices\u001b[0m \u001b[0;34m=\u001b[0m \u001b[0mnp\u001b[0m\u001b[0;34m.\u001b[0m\u001b[0mrandom\u001b[0m\u001b[0;34m.\u001b[0m\u001b[0mchoice\u001b[0m\u001b[0;34m(\u001b[0m\u001b[0mlen\u001b[0m\u001b[0;34m(\u001b[0m\u001b[0mself\u001b[0m\u001b[0;34m.\u001b[0m\u001b[0mbuffer\u001b[0m\u001b[0;34m)\u001b[0m\u001b[0;34m,\u001b[0m \u001b[0mbatch_size\u001b[0m\u001b[0;34m,\u001b[0m \u001b[0mreplace\u001b[0m\u001b[0;34m=\u001b[0m\u001b[0mreplace\u001b[0m\u001b[0;34m)\u001b[0m\u001b[0;34m\u001b[0m\u001b[0;34m\u001b[0m\u001b[0m\n\u001b[1;32m     34\u001b[0m         states, actions, rewards, dones, next_states = zip(\n\u001b[0;32m---> 35\u001b[0;31m             \u001b[0;34m*\u001b[0m\u001b[0;34m[\u001b[0m\u001b[0mself\u001b[0m\u001b[0;34m.\u001b[0m\u001b[0mbuffer\u001b[0m\u001b[0;34m[\u001b[0m\u001b[0midx\u001b[0m\u001b[0;34m]\u001b[0m \u001b[0;32mfor\u001b[0m \u001b[0midx\u001b[0m \u001b[0;32min\u001b[0m \u001b[0mindices\u001b[0m\u001b[0;34m]\u001b[0m\u001b[0;34m\u001b[0m\u001b[0;34m\u001b[0m\u001b[0m\n\u001b[0m\u001b[1;32m     36\u001b[0m         )\n\u001b[1;32m     37\u001b[0m \u001b[0;34m\u001b[0m\u001b[0m\n",
      "\u001b[0;32m~/miniconda3/envs/spinningup/lib/python3.6/site-packages/crar_pytorch-0.1-py3.6.egg/crar/experience.py\u001b[0m in \u001b[0;36m<listcomp>\u001b[0;34m(.0)\u001b[0m\n\u001b[1;32m     33\u001b[0m         \u001b[0mindices\u001b[0m \u001b[0;34m=\u001b[0m \u001b[0mnp\u001b[0m\u001b[0;34m.\u001b[0m\u001b[0mrandom\u001b[0m\u001b[0;34m.\u001b[0m\u001b[0mchoice\u001b[0m\u001b[0;34m(\u001b[0m\u001b[0mlen\u001b[0m\u001b[0;34m(\u001b[0m\u001b[0mself\u001b[0m\u001b[0;34m.\u001b[0m\u001b[0mbuffer\u001b[0m\u001b[0;34m)\u001b[0m\u001b[0;34m,\u001b[0m \u001b[0mbatch_size\u001b[0m\u001b[0;34m,\u001b[0m \u001b[0mreplace\u001b[0m\u001b[0;34m=\u001b[0m\u001b[0mreplace\u001b[0m\u001b[0;34m)\u001b[0m\u001b[0;34m\u001b[0m\u001b[0;34m\u001b[0m\u001b[0m\n\u001b[1;32m     34\u001b[0m         states, actions, rewards, dones, next_states = zip(\n\u001b[0;32m---> 35\u001b[0;31m             \u001b[0;34m*\u001b[0m\u001b[0;34m[\u001b[0m\u001b[0mself\u001b[0m\u001b[0;34m.\u001b[0m\u001b[0mbuffer\u001b[0m\u001b[0;34m[\u001b[0m\u001b[0midx\u001b[0m\u001b[0;34m]\u001b[0m \u001b[0;32mfor\u001b[0m \u001b[0midx\u001b[0m \u001b[0;32min\u001b[0m \u001b[0mindices\u001b[0m\u001b[0;34m]\u001b[0m\u001b[0;34m\u001b[0m\u001b[0;34m\u001b[0m\u001b[0m\n\u001b[0m\u001b[1;32m     36\u001b[0m         )\n\u001b[1;32m     37\u001b[0m \u001b[0;34m\u001b[0m\u001b[0m\n",
      "\u001b[0;31mKeyboardInterrupt\u001b[0m: "
     ]
    }
   ],
   "source": [
    "train_loop()"
   ]
  }
 ],
 "metadata": {
  "kernelspec": {
   "display_name": "Python 3.6.10 64-bit ('spinningup': conda)",
   "language": "python",
   "name": "python361064bitspinningupcondaa7a9d9823c8d4a05886b1f3212fe475e"
  },
  "language_info": {
   "codemirror_mode": {
    "name": "ipython",
    "version": 3
   },
   "file_extension": ".py",
   "mimetype": "text/x-python",
   "name": "python",
   "nbconvert_exporter": "python",
   "pygments_lexer": "ipython3",
   "version": "3.6.10"
  }
 },
 "nbformat": 4,
 "nbformat_minor": 4
}
