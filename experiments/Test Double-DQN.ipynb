{
 "cells": [
  {
   "cell_type": "markdown",
   "metadata": {},
   "source": [
    "# Test Double-DQN"
   ]
  },
  {
   "cell_type": "code",
   "execution_count": 22,
   "metadata": {},
   "outputs": [],
   "source": [
    "import math\n",
    "import torch\n",
    "import torch.nn as nn\n",
    "from torch.optim import Adam\n",
    "import gym\n",
    "import random\n",
    "import numpy as np"
   ]
  },
  {
   "cell_type": "code",
   "execution_count": 23,
   "metadata": {},
   "outputs": [],
   "source": [
    "from IPython.display import clear_output\n",
    "import matplotlib.pyplot as plt\n",
    "%matplotlib inline"
   ]
  },
  {
   "cell_type": "code",
   "execution_count": 24,
   "metadata": {},
   "outputs": [],
   "source": [
    "USE_CUDA = torch.cuda.is_available()\n",
    "device = 'cuda' if USE_CUDA else 'cpu'\n",
    "device = torch.device(device)"
   ]
  },
  {
   "cell_type": "code",
   "execution_count": 25,
   "metadata": {},
   "outputs": [],
   "source": [
    "def plot(frame_idx, rewards, losses):\n",
    "    %matplotlib inline\n",
    "    clear_output(True)\n",
    "    plt.figure(figsize=(20,5))\n",
    "    plt.subplot(131)\n",
    "    plt.title('frame %s. reward: %s' % (frame_idx, np.mean(rewards[-10:])))\n",
    "    plt.plot(rewards)\n",
    "    plt.subplot(132)\n",
    "    plt.title('loss')\n",
    "    plt.plot(losses)\n",
    "    plt.show()"
   ]
  },
  {
   "cell_type": "markdown",
   "metadata": {},
   "source": [
    "## Network and Loss Definitions"
   ]
  },
  {
   "cell_type": "code",
   "execution_count": 26,
   "metadata": {},
   "outputs": [],
   "source": [
    "class QNetwork(nn.Module):\n",
    "    def __init__(self, input_size, num_actions):\n",
    "        self.num_actions = num_actions\n",
    "        super().__init__()\n",
    "        self.fc = nn.Sequential(nn.Linear(input_size, 128),\n",
    "                                nn.ReLU(),\n",
    "                                nn.Linear(128, 128),\n",
    "                                nn.ReLU(),\n",
    "                                nn.Linear(128, num_actions))\n",
    "    def forward(self, x):\n",
    "        return self.fc(x)\n",
    "    \n",
    "    def get_value(self, state):\n",
    "        return self.forward(state)\n",
    "    \n",
    "    def act(self, state, eps):\n",
    "        if np.random.random() < eps:\n",
    "            return np.random.randint(self.num_actions)\n",
    "        return torch.argmax(self.forward(state)).item()"
   ]
  },
  {
   "cell_type": "code",
   "execution_count": 27,
   "metadata": {},
   "outputs": [],
   "source": [
    "def synchronize_nets(from_net, to_net):\n",
    "    to_net.load_state_dict(from_net.state_dict())"
   ]
  },
  {
   "cell_type": "code",
   "execution_count": 28,
   "metadata": {},
   "outputs": [],
   "source": [
    "def ddqn_td_loss(online_net, target_net, batch, gamma=0.95):\n",
    "    states, actions, rewards, dones, next_states = map(\n",
    "        lambda arr: torch.as_tensor(arr, device=device, dtype=torch.float32), \n",
    "        batch\n",
    "    )\n",
    "    \n",
    "    state_action_values = torch.gather(\n",
    "        online_net.get_value(states), 1,\n",
    "        actions.long().unsqueeze(-1)\n",
    "    )\n",
    "    \n",
    "    online_next_state_values = online_net.get_value(next_states)\n",
    "    best_online_actions = torch.argmax(online_next_state_values, dim=1)\n",
    "\n",
    "    target_next_state_values = target_net.get_value(next_states)\n",
    "    \n",
    "    target_state_action_values = torch.gather(\n",
    "        target_next_state_values, 1, \n",
    "        best_online_actions.unsqueeze(-1)\n",
    "    )\n",
    "    target_state_action_values *= 1.0 - dones.float().unsqueeze(-1)\n",
    "    \n",
    "    expected_state_action_values = rewards.unsqueeze(-1) + gamma * target_state_action_values\n",
    "        \n",
    "    loss = nn.MSELoss()(state_action_values, expected_state_action_values)\n",
    "    return loss"
   ]
  },
  {
   "cell_type": "code",
   "execution_count": 29,
   "metadata": {},
   "outputs": [],
   "source": [
    "from crar.experience import ReplayBuffer, Experience\n",
    "from crar.utils import compute_eps\n",
    "\n",
    "def play_step(replay_buffer, state, qnet, env, step_number, \n",
    "              eps_start=1.0, eps_end=0.01, eps_last_frame=1000):\n",
    "    eps = compute_eps(step_number, eps_start, eps_end, eps_last_frame)\n",
    "    action = qnet.act(\n",
    "        torch.as_tensor(np.expand_dims(state, 0), device=device).float(),\n",
    "        eps\n",
    "    )\n",
    "    next_state, reward, done, _ = env.step(action)\n",
    "    exp = Experience(state, action, reward, done, next_state)\n",
    "    replay_buffer.push(exp)\n",
    "    \n",
    "    return next_state, reward, done"
   ]
  },
  {
   "cell_type": "code",
   "execution_count": 30,
   "metadata": {},
   "outputs": [],
   "source": [
    "def populate_warm_start(replay_buffer, qnet, env, eps_start=1.0, \n",
    "                        eps_end=0.001, eps_last_frame=1000):\n",
    "    state = env.reset()\n",
    "    for _ in range(1000):\n",
    "        next_state, reward, done =\\\n",
    "            play_step(replay_buffer, state, qnet, env, 0)\n",
    "        state = next_state\n",
    "        if done:\n",
    "            state = env.reset()"
   ]
  },
  {
   "cell_type": "markdown",
   "metadata": {},
   "source": [
    "## CartPole"
   ]
  },
  {
   "cell_type": "code",
   "execution_count": 46,
   "metadata": {},
   "outputs": [],
   "source": [
    "online_net = QNetwork(4, 2).to(device)\n",
    "target_net = QNetwork(4, 2).to(device)"
   ]
  },
  {
   "cell_type": "code",
   "execution_count": 47,
   "metadata": {},
   "outputs": [],
   "source": [
    "REPLAY_SIZE = 100\n",
    "MAX_EP_LEN = 200\n",
    "BATCH_SIZE = 32\n",
    "SYNC_INTERVAL = 100\n",
    "PLOT_INTERVAL = 100\n",
    "TOTAL_STEPS = 2000"
   ]
  },
  {
   "cell_type": "code",
   "execution_count": 48,
   "metadata": {},
   "outputs": [],
   "source": [
    "replay_buffer = ReplayBuffer(REPLAY_SIZE)"
   ]
  },
  {
   "cell_type": "code",
   "execution_count": 49,
   "metadata": {},
   "outputs": [],
   "source": [
    "from crar.environments import TimeLimit\n",
    "\n",
    "env_id = \"CartPole-v0\"\n",
    "env = gym.make(env_id)\n",
    "env = TimeLimit(env, MAX_EP_LEN)"
   ]
  },
  {
   "cell_type": "code",
   "execution_count": 50,
   "metadata": {},
   "outputs": [],
   "source": [
    "populate_warm_start(replay_buffer, online_net, env)    "
   ]
  },
  {
   "cell_type": "code",
   "execution_count": 56,
   "metadata": {},
   "outputs": [],
   "source": [
    "optimizer = torch.optim.Adam(online_net.parameters(), lr=1e-3)"
   ]
  },
  {
   "cell_type": "code",
   "execution_count": 57,
   "metadata": {},
   "outputs": [],
   "source": [
    "def train_loop():\n",
    "    state = env.reset()\n",
    "    ep_rewards_list = []\n",
    "    losses_list = []\n",
    "    episode_reward = 0\n",
    "    state = env.reset()\n",
    "    for step_num in range(1, TOTAL_STEPS + 1):\n",
    "        if len(replay_buffer) > BATCH_SIZE:\n",
    "            batch = replay_buffer.sample(BATCH_SIZE)\n",
    "            loss = ddqn_td_loss(online_net, target_net, batch)\n",
    "            losses_list.append(loss)\n",
    "            optimizer.zero_grad()\n",
    "            loss.backward()\n",
    "            optimizer.step()\n",
    "        \n",
    "        if step_num % SYNC_INTERVAL == 0:\n",
    "            synchronize_nets(online_net, target_net)\n",
    "        \n",
    "        next_state, reward, done =\\\n",
    "            play_step(replay_buffer, state, online_net, env, step_num)\n",
    "        episode_reward += reward\n",
    "        state = next_state\n",
    "        if done:\n",
    "            ep_rewards_list.append(episode_reward)\n",
    "            episode_reward = 0\n",
    "            state = env.reset()\n",
    "        if step_num % PLOT_INTERVAL == 0:\n",
    "            plot(step_num, ep_rewards_list, losses_list)    \n",
    "            "
   ]
  },
  {
   "cell_type": "code",
   "execution_count": 58,
   "metadata": {},
   "outputs": [
    {
     "data": {
      "image/png": "[encoded data removed]",
      "text/plain": [
       "<Figure size 1440x360 with 2 Axes>"
      ]
     },
     "metadata": {
      "needs_background": "light"
     },
     "output_type": "display_data"
    }
   ],
   "source": [
    "train_loop()"
   ]
  }
 ],
 "metadata": {
  "kernelspec": {
   "display_name": "Python 3.6.10 64-bit ('spinningup': conda)",
   "language": "python",
   "name": "python361064bitspinningupcondaa7a9d9823c8d4a05886b1f3212fe475e"
  },
  "language_info": {
   "codemirror_mode": {
    "name": "ipython",
    "version": 3
   },
   "file_extension": ".py",
   "mimetype": "text/x-python",
   "name": "python",
   "nbconvert_exporter": "python",
   "pygments_lexer": "ipython3",
   "version": "3.6.10"
  }
 },
 "nbformat": 4,
 "nbformat_minor": 4
}
