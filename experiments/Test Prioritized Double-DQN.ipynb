{
 "cells": [
  {
   "cell_type": "markdown",
   "metadata": {},
   "source": [
    "# Test Prioritized Double-DQN"
   ]
  },
  {
   "cell_type": "code",
   "execution_count": 286,
   "metadata": {},
   "outputs": [],
   "source": [
    "import math\n",
    "import torch\n",
    "import torch.nn as nn\n",
    "from torch.optim import Adam\n",
    "import gym\n",
    "import random\n",
    "import numpy as np"
   ]
  },
  {
   "cell_type": "code",
   "execution_count": 287,
   "metadata": {},
   "outputs": [],
   "source": [
    "from IPython.display import clear_output\n",
    "import matplotlib.pyplot as plt\n",
    "%matplotlib inline"
   ]
  },
  {
   "cell_type": "code",
   "execution_count": 288,
   "metadata": {},
   "outputs": [],
   "source": [
    "USE_CUDA = torch.cuda.is_available()\n",
    "device = 'cuda' if USE_CUDA else 'cpu'\n",
    "device = torch.device(device)"
   ]
  },
  {
   "cell_type": "code",
   "execution_count": 289,
   "metadata": {},
   "outputs": [],
   "source": [
    "def plot(frame_idx, rewards, losses):\n",
    "    %matplotlib inline\n",
    "    clear_output(True)\n",
    "    plt.figure(figsize=(20,5))\n",
    "    plt.subplot(131)\n",
    "    plt.title('frame %s. reward: %s' % (frame_idx, np.mean(rewards[-10:])))\n",
    "    plt.plot(rewards)\n",
    "    plt.subplot(132)\n",
    "    plt.title('loss')\n",
    "    plt.plot(losses)\n",
    "    plt.show()"
   ]
  },
  {
   "cell_type": "markdown",
   "metadata": {},
   "source": [
    "## Network and Loss Definitions"
   ]
  },
  {
   "cell_type": "code",
   "execution_count": 290,
   "metadata": {},
   "outputs": [],
   "source": [
    "class QNetwork(nn.Module):\n",
    "    def __init__(self, input_size, num_actions):\n",
    "        self.num_actions = num_actions\n",
    "        super().__init__()\n",
    "        self.fc = nn.Sequential(nn.Linear(input_size, 128),\n",
    "                                nn.ReLU(),\n",
    "                                nn.Linear(128, 128),\n",
    "                                nn.ReLU(),\n",
    "                                nn.Linear(128, num_actions))\n",
    "    def forward(self, x):\n",
    "        return self.fc(x)\n",
    "    \n",
    "    def get_value(self, state):\n",
    "        return self.forward(state)\n",
    "    \n",
    "    def act(self, state, eps):\n",
    "        if np.random.random() < eps:\n",
    "            return np.random.randint(self.num_actions)\n",
    "        return torch.argmax(self.forward(state)).item()"
   ]
  },
  {
   "cell_type": "code",
   "execution_count": 291,
   "metadata": {},
   "outputs": [],
   "source": [
    "def synchronize_nets(from_net, to_net):\n",
    "    to_net.load_state_dict(from_net.state_dict())"
   ]
  },
  {
   "cell_type": "code",
   "execution_count": 304,
   "metadata": {},
   "outputs": [],
   "source": [
    "def ddqn_priority_td_loss(online_net, target_net, batch, memory_size, beta=0.7, gamma=0.95):\n",
    "    priorities, states, actions, rewards, dones, next_states = map(\n",
    "        lambda arr: torch.as_tensor(arr, device=device, dtype=torch.float32), \n",
    "        batch\n",
    "    )\n",
    "    \n",
    "    state_action_values = torch.gather(\n",
    "        online_net.get_value(states), 1,\n",
    "        actions.long().unsqueeze(-1)\n",
    "    )\n",
    "    \n",
    "    online_next_state_values = online_net.get_value(next_states)\n",
    "    best_online_actions = torch.argmax(online_next_state_values, dim=1)\n",
    "\n",
    "    target_next_state_values = target_net.get_value(next_states)\n",
    "    \n",
    "    target_state_action_values = torch.gather(\n",
    "        target_next_state_values, 1, \n",
    "        best_online_actions.unsqueeze(-1)\n",
    "    )\n",
    "    target_state_action_values *= 1.0 - dones.float().unsqueeze(-1)\n",
    "    \n",
    "    expected_state_action_values = rewards.unsqueeze(-1) + gamma * target_state_action_values\n",
    "    \n",
    "    \n",
    "    td_error = expected_state_action_values - state_action_values\n",
    "    \n",
    "    imp_samp_weights = (1/memory_size) * (1/priorities)\n",
    "    imp_samp_weights /= torch.max(imp_samp_weights)\n",
    "    imp_samp_weights = torch.pow(imp_samp_weights, beta)\n",
    "    loss = (td_error).pow(2).mean()\n",
    "    \n",
    "    return td_error, loss"
   ]
  },
  {
   "cell_type": "code",
   "execution_count": 293,
   "metadata": {},
   "outputs": [],
   "source": [
    "from crar.experience import PrioritizedReplayBuffer, TDExperience\n",
    "from crar.utils import compute_eps\n",
    "\n",
    "def play_step(replay_buffer, state, qnet, env, step_number, \n",
    "              eps_start=1.0, eps_end=0.01, eps_last_frame=1000):\n",
    "    eps = compute_eps(step_number, eps_start, eps_end, eps_last_frame)\n",
    "    action = qnet.act(\n",
    "        torch.as_tensor(np.expand_dims(state, 0), device=device).float(),\n",
    "        eps\n",
    "    )\n",
    "    next_state, reward, done, _ = env.step(action)\n",
    "    # States that are experienced for the first time have highest priority\n",
    "    exp = TDExperience([-1e5, state, action, reward, done, next_state])\n",
    "    replay_buffer.push(exp)\n",
    "    \n",
    "    return next_state, reward, done"
   ]
  },
  {
   "cell_type": "code",
   "execution_count": 294,
   "metadata": {},
   "outputs": [],
   "source": [
    "def populate_warm_start(replay_buffer, qnet, env, eps_start=1.0, \n",
    "                        eps_end=0.001, eps_last_frame=1000):\n",
    "    state = env.reset()\n",
    "    for _ in range(1000):\n",
    "        next_state, reward, done =\\\n",
    "            play_step(replay_buffer, state, qnet, env, 0)\n",
    "        state = next_state\n",
    "        if done:\n",
    "            state = env.reset()"
   ]
  },
  {
   "cell_type": "markdown",
   "metadata": {},
   "source": [
    "## CartPole"
   ]
  },
  {
   "cell_type": "code",
   "execution_count": 295,
   "metadata": {},
   "outputs": [],
   "source": [
    "online_net = QNetwork(4, 2).to(device)\n",
    "target_net = QNetwork(4, 2).to(device)"
   ]
  },
  {
   "cell_type": "code",
   "execution_count": 296,
   "metadata": {},
   "outputs": [],
   "source": [
    "REPLAY_SIZE = 500\n",
    "MAX_EP_LEN = 200\n",
    "BATCH_SIZE = 32\n",
    "SYNC_INTERVAL = 50\n",
    "PLOT_INTERVAL = 100\n",
    "TOTAL_STEPS = 2000\n",
    "GRAD_CLIP = 10.0"
   ]
  },
  {
   "cell_type": "code",
   "execution_count": 297,
   "metadata": {},
   "outputs": [],
   "source": [
    "replay_buffer = PrioritizedReplayBuffer(REPLAY_SIZE, sort_interval=64)"
   ]
  },
  {
   "cell_type": "code",
   "execution_count": 298,
   "metadata": {},
   "outputs": [],
   "source": [
    "from crar.environments import TimeLimit\n",
    "\n",
    "env_id = \"CartPole-v0\"\n",
    "env = gym.make(env_id)\n",
    "env = TimeLimit(env, MAX_EP_LEN)"
   ]
  },
  {
   "cell_type": "code",
   "execution_count": 299,
   "metadata": {},
   "outputs": [],
   "source": [
    "populate_warm_start(replay_buffer, online_net, env)    "
   ]
  },
  {
   "cell_type": "code",
   "execution_count": 300,
   "metadata": {},
   "outputs": [
    {
     "data": {
      "text/plain": [
       "(array([-100000., -100000., -100000., -100000., -100000., -100000.,\n",
       "        -100000., -100000., -100000., -100000., -100000., -100000.,\n",
       "        -100000., -100000., -100000., -100000., -100000., -100000.,\n",
       "        -100000., -100000., -100000., -100000., -100000., -100000.,\n",
       "        -100000., -100000., -100000., -100000., -100000., -100000.,\n",
       "        -100000., -100000.]),\n",
       " array([[ 1.73508499e-02,  4.60230456e-02,  2.18614233e-02,\n",
       "         -3.15847012e-02],\n",
       "        [-5.79269227e-02, -3.03079943e-02,  4.59037749e-03,\n",
       "         -1.18567524e-01],\n",
       "        [ 2.27409773e-02, -2.44475046e-01, -6.09690820e-03,\n",
       "          2.92625956e-01],\n",
       "        [ 1.82713108e-02,  2.40824782e-01,  2.12297293e-02,\n",
       "         -3.17290737e-01],\n",
       "        [ 9.82479743e-03, -1.51886082e-01,  4.40187455e-02,\n",
       "          3.22858717e-01],\n",
       "        [ 2.30878065e-02,  4.54069855e-02,  1.48839146e-02,\n",
       "         -1.79890245e-02],\n",
       "        [ 2.03279671e-02, -1.48855858e-01,  1.67460320e-02,\n",
       "          2.55769565e-01],\n",
       "        [ 1.67557490e-02, -3.46547580e-01,  3.19123121e-02,\n",
       "          6.05321668e-01],\n",
       "        [-1.22048073e-01, -1.01558991e+00,  1.99375907e-01,\n",
       "          1.75450098e+00],\n",
       "        [ 1.82713108e-02,  2.40824782e-01,  2.12297293e-02,\n",
       "         -3.17290737e-01],\n",
       "        [-2.16288697e-03,  5.80827697e-01, -7.62975153e-03,\n",
       "         -8.67299219e-01],\n",
       "        [ 1.97770963e-02, -1.51067365e-01,  2.58201360e-02,\n",
       "          3.04608806e-01],\n",
       "        [-3.92827077e-02,  2.20196457e-01, -3.96810708e-02,\n",
       "         -4.13607268e-01],\n",
       "        [ 8.54401144e-03,  2.32261870e-01,  6.92247883e-02,\n",
       "         -1.28635490e-01],\n",
       "        [ 2.03279671e-02, -1.48855858e-01,  1.67460320e-02,\n",
       "          2.55769565e-01],\n",
       "        [ 4.82484518e-03,  3.40498128e-01, -2.04695750e-02,\n",
       "         -5.21916895e-01],\n",
       "        [ 2.92535287e-02,  4.63807045e-02,  1.52907358e-03,\n",
       "         -3.94660628e-02],\n",
       "        [-2.68130070e-02, -6.28877531e-01,  3.31902600e-04,\n",
       "          9.04267049e-01],\n",
       "        [ 2.03279671e-02, -1.48855858e-01,  1.67460320e-02,\n",
       "          2.55769565e-01],\n",
       "        [ 1.97770963e-02, -1.51067365e-01,  2.58201360e-02,\n",
       "          3.04608806e-01],\n",
       "        [ 2.39959462e-02, -1.49925221e-01,  1.45241341e-02,\n",
       "          2.79352540e-01],\n",
       "        [-2.28061479e-02, -5.52408081e-01,  5.91996465e-02,\n",
       "          9.10979036e-01],\n",
       "        [ 6.20982286e-02,  1.55620321e-01, -8.64959071e-02,\n",
       "         -3.57581334e-01],\n",
       "        [ 4.33032203e-02,  3.82095459e-01, -4.76823098e-02,\n",
       "         -6.45758334e-01],\n",
       "        [ 3.60527122e-02,  1.85366608e-01, -3.38206387e-02,\n",
       "         -3.17219971e-01],\n",
       "        [-6.69749746e-03, -2.28317914e-01, -5.25586468e-02,\n",
       "          2.38178246e-01],\n",
       "        [ 2.89519893e-02,  3.06036205e-02,  7.76832017e-02,\n",
       "          3.09424761e-01],\n",
       "        [-7.73289130e-02, -7.67913213e-01,  5.16546646e-02,\n",
       "          1.11162609e+00],\n",
       "        [ 3.42094341e-02,  1.52600370e-01, -3.82740448e-02,\n",
       "         -2.89923668e-01],\n",
       "        [-9.94467986e-02, -5.31079241e-02,  1.13655009e-01,\n",
       "          2.39320620e-01],\n",
       "        [ 1.67557490e-02, -3.46547580e-01,  3.19123121e-02,\n",
       "          6.05321668e-01],\n",
       "        [ 1.01075874e-02,  3.97739375e-02,  5.59239107e-02,\n",
       "          1.06432263e-01]]),\n",
       " array([1, 0, 1, 0, 1, 0, 1, 1, 0, 0, 1, 0, 1, 0, 1, 1, 0, 1, 1, 0, 1, 0,\n",
       "        0, 1, 0, 0, 0, 0, 1, 0, 1, 0]),\n",
       " array([1., 1., 1., 1., 1., 1., 1., 1., 1., 1., 1., 1., 1., 1., 1., 1., 1.,\n",
       "        1., 1., 1., 1., 1., 1., 1., 1., 1., 1., 1., 1., 1., 1., 1.],\n",
       "       dtype=float32),\n",
       " array([False, False, False, False, False, False, False, False,  True,\n",
       "        False, False, False, False, False, False, False, False, False,\n",
       "        False, False, False, False, False, False, False, False, False,\n",
       "        False, False, False, False, False]),\n",
       " array([[ 1.82713108e-02,  2.40824782e-01,  2.12297293e-02,\n",
       "         -3.17290737e-01],\n",
       "        [-5.85330826e-02, -2.25495413e-01,  2.21902700e-03,\n",
       "          1.75560086e-01],\n",
       "        [ 1.78514764e-02, -4.92666987e-02, -2.44389069e-04,\n",
       "         -1.97360222e-03],\n",
       "        [ 2.30878065e-02,  4.54069855e-02,  1.48839146e-02,\n",
       "         -1.79890245e-02],\n",
       "        [ 6.78707579e-03,  4.25823128e-02,  5.04759198e-02,\n",
       "          4.43760208e-02],\n",
       "        [ 2.39959462e-02, -1.49925221e-01,  1.45241341e-02,\n",
       "          2.79352540e-01],\n",
       "        [ 1.73508499e-02,  4.60230456e-02,  2.18614233e-02,\n",
       "         -3.15847012e-02],\n",
       "        [ 9.82479743e-03, -1.51886082e-01,  4.40187455e-02,\n",
       "          3.22858717e-01],\n",
       "        [-1.42359871e-01, -1.21233651e+00,  2.34465926e-01,\n",
       "          2.10200361e+00],\n",
       "        [ 2.30878065e-02,  4.54069855e-02,  1.48839146e-02,\n",
       "         -1.79890245e-02],\n",
       "        [ 9.45366697e-03,  7.76052635e-01, -2.49757359e-02,\n",
       "         -1.16237123e+00],\n",
       "        [ 1.67557490e-02, -3.46547580e-01,  3.19123121e-02,\n",
       "          6.05321668e-01],\n",
       "        [-3.48787785e-02,  4.15857744e-01, -4.79532162e-02,\n",
       "         -7.18531337e-01],\n",
       "        [ 1.31892488e-02,  3.62200496e-02,  6.66520785e-02,\n",
       "          1.85058774e-01],\n",
       "        [ 1.73508499e-02,  4.60230456e-02,  2.18614233e-02,\n",
       "         -3.15847012e-02],\n",
       "        [ 1.16348077e-02,  5.35902132e-01, -3.09079129e-02,\n",
       "         -8.20979131e-01],\n",
       "        [ 3.01811428e-02, -1.48763140e-01,  7.39752326e-04,\n",
       "          2.53698909e-01],\n",
       "        [-3.93905576e-02, -4.33760076e-01,  1.84172436e-02,\n",
       "          6.11688463e-01],\n",
       "        [ 1.73508499e-02,  4.60230456e-02,  2.18614233e-02,\n",
       "         -3.15847012e-02],\n",
       "        [ 1.67557490e-02, -3.46547580e-01,  3.19123121e-02,\n",
       "          6.05321668e-01],\n",
       "        [ 2.09974418e-02,  4.49865600e-02,  2.01111849e-02,\n",
       "         -8.71434811e-03],\n",
       "        [-3.38543095e-02, -7.48278988e-01,  7.74192272e-02,\n",
       "          1.22166524e+00],\n",
       "        [ 6.52106351e-02, -3.81722832e-02, -9.36475338e-02,\n",
       "         -9.33772501e-02],\n",
       "        [ 5.09451295e-02,  5.77848276e-01, -6.05974765e-02,\n",
       "         -9.53067112e-01],\n",
       "        [ 3.97600444e-02, -9.25771234e-03, -4.01650382e-02,\n",
       "         -3.53918103e-02],\n",
       "        [-1.12638558e-02, -4.22651149e-01, -4.77950819e-02,\n",
       "          5.13830440e-01],\n",
       "        [ 2.95640617e-02, -1.65534263e-01,  8.38716969e-02,\n",
       "          6.25560207e-01],\n",
       "        [-9.26871772e-02, -9.63674220e-01,  7.38871863e-02,\n",
       "          1.42005565e+00],\n",
       "        [ 3.72614415e-02,  3.48246592e-01, -4.40725182e-02,\n",
       "         -5.94427898e-01],\n",
       "        [-1.00508957e-01, -2.49654543e-01,  1.18441421e-01,\n",
       "          5.65581116e-01],\n",
       "        [ 9.82479743e-03, -1.51886082e-01,  4.40187455e-02,\n",
       "          3.22858717e-01],\n",
       "        [ 1.09030661e-02, -1.56102978e-01,  5.80525559e-02,\n",
       "          4.16221365e-01]]))"
      ]
     },
     "execution_count": 300,
     "metadata": {},
     "output_type": "execute_result"
    }
   ],
   "source": [
    "replay_buffer.sample(BATCH_SIZE)"
   ]
  },
  {
   "cell_type": "code",
   "execution_count": 301,
   "metadata": {},
   "outputs": [],
   "source": [
    "optimizer = torch.optim.Adam(online_net.parameters(), lr=5e-4)"
   ]
  },
  {
   "cell_type": "code",
   "execution_count": 302,
   "metadata": {},
   "outputs": [],
   "source": [
    "def train_loop():\n",
    "    state = env.reset()\n",
    "    ep_rewards_list = []\n",
    "    losses_list = []\n",
    "    episode_reward = 0\n",
    "    state = env.reset()\n",
    "    for step_num in range(1, TOTAL_STEPS + 1):\n",
    "        if len(replay_buffer) > BATCH_SIZE:\n",
    "            batch = replay_buffer.sample(BATCH_SIZE)\n",
    "            td_error, loss = ddqn_priority_td_loss(online_net, target_net, batch, len(replay_buffer))\n",
    "            replay_buffer.update_priorities(td_error)\n",
    "            losses_list.append(loss)\n",
    "            optimizer.zero_grad()\n",
    "            loss.backward()\n",
    "            if GRAD_CLIP > 0:\n",
    "                nn.utils.clip_grad_norm_(online_net.parameters(), GRAD_CLIP)\n",
    "            optimizer.step()\n",
    "        \n",
    "        if step_num % SYNC_INTERVAL == 0:\n",
    "            synchronize_nets(online_net, target_net)\n",
    "        \n",
    "        next_state, reward, done =\\\n",
    "            play_step(replay_buffer, state, online_net, env, step_num)\n",
    "        episode_reward += reward\n",
    "        state = next_state\n",
    "        if done:\n",
    "            ep_rewards_list.append(episode_reward)\n",
    "            episode_reward = 0\n",
    "            state = env.reset()\n",
    "        if step_num % PLOT_INTERVAL == 0:\n",
    "            plot(step_num, ep_rewards_list, losses_list)    \n",
    "            "
   ]
  },
  {
   "cell_type": "code",
   "execution_count": 303,
   "metadata": {},
   "outputs": [
    {
     "data": {
      "image/png": "[encoded data removed]",
      "text/plain": [
       "<Figure size 1440x360 with 2 Axes>"
      ]
     },
     "metadata": {
      "needs_background": "light"
     },
     "output_type": "display_data"
    }
   ],
   "source": [
    "train_loop()"
   ]
  },
  {
   "cell_type": "code",
   "execution_count": null,
   "metadata": {},
   "outputs": [],
   "source": []
  },
  {
   "cell_type": "code",
   "execution_count": null,
   "metadata": {},
   "outputs": [],
   "source": []
  }
 ],
 "metadata": {
  "kernelspec": {
   "display_name": "Python 3.6.10 64-bit ('spinningup': conda)",
   "language": "python",
   "name": "python361064bitspinningupcondaa7a9d9823c8d4a05886b1f3212fe475e"
  },
  "language_info": {
   "codemirror_mode": {
    "name": "ipython",
    "version": 3
   },
   "file_extension": ".py",
   "mimetype": "text/x-python",
   "name": "python",
   "nbconvert_exporter": "python",
   "pygments_lexer": "ipython3",
   "version": "3.6.10"
  }
 },
 "nbformat": 4,
 "nbformat_minor": 4
}
